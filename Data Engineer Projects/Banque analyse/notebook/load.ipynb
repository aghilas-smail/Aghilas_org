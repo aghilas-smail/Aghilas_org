{
 "cells": [
  {
   "cell_type": "code",
   "execution_count": 1,
   "metadata": {},
   "outputs": [],
   "source": [
    "import pandas as pd"
   ]
  },
  {
   "cell_type": "code",
   "execution_count": 11,
   "metadata": {},
   "outputs": [
    {
     "name": "stdout",
     "output_type": "stream",
     "text": [
      "      Account No       DATE               TRANSACTION DETAILS  CHQ.NO.  \\\n",
      "0  409000611074' 2017-06-29  TRF FROM  Indiaforensic SERVICES      NaN   \n",
      "1  409000611074' 2017-07-05  TRF FROM  Indiaforensic SERVICES      NaN   \n",
      "2  409000611074' 2017-07-18        FDRL/INTERNAL FUND TRANSFE      NaN   \n",
      "3  409000611074' 2017-08-01   TRF FRM  Indiaforensic SERVICES      NaN   \n",
      "4  409000611074' 2017-08-16        FDRL/INTERNAL FUND TRANSFE      NaN   \n",
      "\n",
      "  VALUE DATE  WITHDRAWAL AMT  DEPOSIT AMT  BALANCE AMT  .  \n",
      "0 2017-06-29             NaN    1000000.0    1000000.0  .  \n",
      "1 2017-07-05             NaN    1000000.0    2000000.0  .  \n",
      "2 2017-07-18             NaN     500000.0    2500000.0  .  \n",
      "3 2017-08-01             NaN    3000000.0    5500000.0  .  \n",
      "4 2017-08-16             NaN     500000.0    6000000.0  .  \n"
     ]
    }
   ],
   "source": [
    "file_path = r'C:\\Users\\aghil\\Desktop\\Aghilas_org\\Data Engineer Projects\\Banque analyse\\data\\bank.xlsx'\n",
    "data = pd.read_excel(file_path)\n",
    "print(data.head())\n"
   ]
  },
  {
   "cell_type": "code",
   "execution_count": 16,
   "metadata": {},
   "outputs": [
    {
     "name": "stdout",
     "output_type": "stream",
     "text": [
      "information générale sur les données\n",
      "<class 'pandas.core.frame.DataFrame'>\n",
      "RangeIndex: 116201 entries, 0 to 116200\n",
      "Data columns (total 9 columns):\n",
      " #   Column               Non-Null Count   Dtype         \n",
      "---  ------               --------------   -----         \n",
      " 0   Account No           116201 non-null  object        \n",
      " 1   DATE                 116201 non-null  datetime64[ns]\n",
      " 2   TRANSACTION DETAILS  113702 non-null  object        \n",
      " 3   CHQ.NO.              905 non-null     float64       \n",
      " 4   VALUE DATE           116201 non-null  datetime64[ns]\n",
      " 5   WITHDRAWAL AMT       53549 non-null   float64       \n",
      " 6   DEPOSIT AMT          62652 non-null   float64       \n",
      " 7   BALANCE AMT          116201 non-null  float64       \n",
      " 8   .                    116201 non-null  object        \n",
      "dtypes: datetime64[ns](2), float64(4), object(3)\n",
      "memory usage: 8.0+ MB\n",
      "None\n"
     ]
    }
   ],
   "source": [
    "print(\"information générale sur les données\")\n",
    "print(data.info())"
   ]
  }
 ],
 "metadata": {
  "kernelspec": {
   "display_name": "Python 3",
   "language": "python",
   "name": "python3"
  },
  "language_info": {
   "codemirror_mode": {
    "name": "ipython",
    "version": 3
   },
   "file_extension": ".py",
   "mimetype": "text/x-python",
   "name": "python",
   "nbconvert_exporter": "python",
   "pygments_lexer": "ipython3",
   "version": "3.12.4"
  }
 },
 "nbformat": 4,
 "nbformat_minor": 2
}
