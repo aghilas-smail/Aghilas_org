{
  "nbformat": 4,
  "nbformat_minor": 0,
  "metadata": {
    "colab": {
      "provenance": [],
      "authorship_tag": "ABX9TyONBxswLc1521qy64UTDfRa"
    },
    "kernelspec": {
      "name": "python3",
      "display_name": "Python 3"
    },
    "language_info": {
      "name": "python"
    }
  },
  "cells": [
    {
      "cell_type": "code",
      "execution_count": 1,
      "metadata": {
        "id": "wBgIdGkMf3h8"
      },
      "outputs": [],
      "source": [
        "import yfinance as yf\n",
        "import pandas as pd\n",
        "import matplotlib.pyplot as plt\n",
        "import numpy as np"
      ]
    },
    {
      "cell_type": "code",
      "source": [
        "def fetch_data(tickers, start):\n",
        "  data = yf.download(tickers, start)['Adj Close']\n",
        "  returns = data.pct_change().dropna()\n",
        "  return data, returns"
      ],
      "metadata": {
        "id": "gqScJOKlspEO"
      },
      "execution_count": 4,
      "outputs": []
    },
    {
      "cell_type": "code",
      "source": [
        "d_, r_ = fetch_data(['AAPL','TSLA'],'2022-01-01')"
      ],
      "metadata": {
        "id": "_k25SBIvtEp1",
        "outputId": "333a7c25-f6f6-45d2-c8dd-fdb0c46b6cfd",
        "colab": {
          "base_uri": "https://localhost:8080/"
        }
      },
      "execution_count": 6,
      "outputs": [
        {
          "output_type": "stream",
          "name": "stderr",
          "text": [
            "[*********************100%***********************]  2 of 2 completed\n"
          ]
        }
      ]
    },
    {
      "cell_type": "code",
      "source": [],
      "metadata": {
        "id": "45-4mNaota22"
      },
      "execution_count": 7,
      "outputs": []
    }
  ]
}