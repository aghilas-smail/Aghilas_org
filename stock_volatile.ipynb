{
  "nbformat": 4,
  "nbformat_minor": 0,
  "metadata": {
    "colab": {
      "provenance": [],
      "authorship_tag": "ABX9TyODgJyltedLUAa9KTSCq5u/"
    },
    "kernelspec": {
      "name": "python3",
      "display_name": "Python 3"
    },
    "language_info": {
      "name": "python"
    }
  },
  "cells": [
    {
      "cell_type": "code",
      "execution_count": 1,
      "metadata": {
        "id": "wBgIdGkMf3h8"
      },
      "outputs": [],
      "source": [
        "import yfinance as yf\n",
        "import pandas as pd\n",
        "import matplotlib.pyplot as plt\n",
        "import numpy as np"
      ]
    },
    {
      "cell_type": "code",
      "source": [
        "def fetch_data(tickers, start):\n",
        "  data = yf.download(tickers, start)['Adj Close']\n",
        "  returns = data.pct_change().dropna()\n",
        "  return data, returns"
      ],
      "metadata": {
        "id": "gqScJOKlspEO"
      },
      "execution_count": 4,
      "outputs": []
    },
    {
      "cell_type": "code",
      "source": [
        "d_, r_ = fetch_data(['AAPL','TSLA'],'2022-01-01')"
      ],
      "metadata": {
        "colab": {
          "base_uri": "https://localhost:8080/"
        },
        "id": "_k25SBIvtEp1",
        "outputId": "333a7c25-f6f6-45d2-c8dd-fdb0c46b6cfd"
      },
      "execution_count": 6,
      "outputs": [
        {
          "output_type": "stream",
          "name": "stderr",
          "text": [
            "[*********************100%***********************]  2 of 2 completed\n"
          ]
        }
      ]
    },
    {
      "cell_type": "code",
      "source": [
        "def get_most_volatile_stocks(returns, top_n=20):\n",
        "  volatility = returns.std() * np.sqrt(252)\n",
        "  most_volatile = volatility.sort_values(ascending=False).head(top_n)\n",
        "  return most_volatile"
      ],
      "metadata": {
        "id": "45-4mNaota22"
      },
      "execution_count": 8,
      "outputs": []
    },
    {
      "cell_type": "code",
      "source": [
        "get_most_volatile_stocks(r_)"
      ],
      "metadata": {
        "id": "HegVp_qjwmoO",
        "outputId": "8a3e9b60-4273-415d-e183-2e72a84867e6",
        "colab": {
          "base_uri": "https://localhost:8080/",
          "height": 178
        }
      },
      "execution_count": 9,
      "outputs": [
        {
          "output_type": "execute_result",
          "data": {
            "text/plain": [
              "Ticker\n",
              "TSLA    0.613038\n",
              "AAPL    0.270935\n",
              "dtype: float64"
            ],
            "text/html": [
              "<div>\n",
              "<style scoped>\n",
              "    .dataframe tbody tr th:only-of-type {\n",
              "        vertical-align: middle;\n",
              "    }\n",
              "\n",
              "    .dataframe tbody tr th {\n",
              "        vertical-align: top;\n",
              "    }\n",
              "\n",
              "    .dataframe thead th {\n",
              "        text-align: right;\n",
              "    }\n",
              "</style>\n",
              "<table border=\"1\" class=\"dataframe\">\n",
              "  <thead>\n",
              "    <tr style=\"text-align: right;\">\n",
              "      <th></th>\n",
              "      <th>0</th>\n",
              "    </tr>\n",
              "    <tr>\n",
              "      <th>Ticker</th>\n",
              "      <th></th>\n",
              "    </tr>\n",
              "  </thead>\n",
              "  <tbody>\n",
              "    <tr>\n",
              "      <th>TSLA</th>\n",
              "      <td>0.613038</td>\n",
              "    </tr>\n",
              "    <tr>\n",
              "      <th>AAPL</th>\n",
              "      <td>0.270935</td>\n",
              "    </tr>\n",
              "  </tbody>\n",
              "</table>\n",
              "</div><br><label><b>dtype:</b> float64</label>"
            ]
          },
          "metadata": {},
          "execution_count": 9
        }
      ]
    },
    {
      "cell_type": "code",
      "source": [
        "np.ones(4) / 4"
      ],
      "metadata": {
        "id": "Jrk-7gykzVKV",
        "outputId": "31eae858-bb5f-4bc6-c08e-1131e64296b3",
        "colab": {
          "base_uri": "https://localhost:8080/"
        }
      },
      "execution_count": 11,
      "outputs": [
        {
          "output_type": "execute_result",
          "data": {
            "text/plain": [
              "array([0.25, 0.25, 0.25, 0.25])"
            ]
          },
          "metadata": {},
          "execution_count": 11
        }
      ]
    },
    {
      "cell_type": "code",
      "source": [
        "def simulate_portfolio(data, most_volatile):\n",
        "  selected_stocks = data[most_volatile.index]\n",
        "  equal_weights = np.ones(len(selected_stocks.columns)) / len(selected_stocks.columns)\n",
        "  portfolio_returns = selected_stocks.pct_change().dropna().dot(equal_weights)\n",
        "  cumulative_returns = (1 + portfolio_returns).cumprod()\n",
        "  return cumulative_returns, portfolio_returns"
      ],
      "metadata": {
        "id": "_hwHW6Zaxe0d"
      },
      "execution_count": 12,
      "outputs": []
    },
    {
      "cell_type": "code",
      "source": [
        "def fetch_benchmark(ticker, start):\n",
        "  benchmark = yf.download(ticker, start)['Adj Close']\n",
        "  benchmark_returns = benchmark.pct_change().dropna()\n",
        "  cumulative_benchmark = (1+benchmark_returns).cumprod()\n",
        "  return benchmark_returns, cumulative_benchmark"
      ],
      "metadata": {
        "id": "7bXhGk-Izt89"
      },
      "execution_count": 20,
      "outputs": []
    },
    {
      "cell_type": "code",
      "source": [],
      "metadata": {
        "id": "E9ZHPX520QIt"
      },
      "execution_count": 25,
      "outputs": []
    }
  ]
}