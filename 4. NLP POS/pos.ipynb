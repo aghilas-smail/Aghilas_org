{
 "cells": [
  {
   "cell_type": "code",
   "execution_count": 6,
   "id": "11b0e2df",
   "metadata": {},
   "outputs": [],
   "source": [
    "import spacy\n"
   ]
  },
  {
   "cell_type": "code",
   "execution_count": 9,
   "id": "87b68f6f",
   "metadata": {},
   "outputs": [],
   "source": [
    "nlp = spacy.load(\"en_core_web_sm\")"
   ]
  },
  {
   "cell_type": "code",
   "execution_count": 14,
   "id": "24c4404a",
   "metadata": {},
   "outputs": [
    {
     "data": {
      "text/plain": [
       "['tok2vec', 'tagger', 'parser', 'attribute_ruler', 'lemmatizer', 'ner']"
      ]
     },
     "execution_count": 14,
     "metadata": {},
     "output_type": "execute_result"
    }
   ],
   "source": [
    "# c'est un ensemple de ocmponent\n",
    "nlp.pipe_names"
   ]
  },
  {
   "cell_type": "code",
   "execution_count": 16,
   "id": "e9c3b2d6",
   "metadata": {},
   "outputs": [
    {
     "name": "stdout",
     "output_type": "stream",
     "text": [
      "Elon | PROPN | proper noun | NNP | noun, proper singular\n",
      "person | NOUN | noun | NN | noun, singular or mass\n",
      "flew | VERB | verb | VBD | verb, past tense\n",
      "to | ADP | adposition | IN | conjunction, subordinating or preposition\n",
      "mars | NOUN | noun | NNS | noun, plural\n",
      "yesterday | NOUN | noun | NN | noun, singular or mass\n",
      ". | PUNCT | punctuation | . | punctuation mark, sentence closer\n",
      "He | PRON | pronoun | PRP | pronoun, personal\n",
      "carried | VERB | verb | VBD | verb, past tense\n",
      "Aghilas | PROPN | proper noun | NNP | noun, proper singular\n",
      "smail | NOUN | noun | NN | noun, singular or mass\n",
      "with | ADP | adposition | IN | conjunction, subordinating or preposition\n",
      "him | PRON | pronoun | PRP | pronoun, personal\n"
     ]
    }
   ],
   "source": [
    "# Préparation du model d'apprentissage.\n",
    "doc = nlp(\"Elon person flew to mars yesterday. He carried Aghilas smail with him\")\n",
    "for token in doc:\n",
    "    print(token,\"|\", token.pos_,\"|\", spacy.explain(token.pos_), \"|\", token.tag_, \"|\", spacy.explain(token.tag_))"
   ]
  },
  {
   "cell_type": "code",
   "execution_count": 19,
   "id": "810c43e0",
   "metadata": {},
   "outputs": [
    {
     "name": "stdout",
     "output_type": "stream",
     "text": [
      "quits | VBZ | verb, 3rd person singular present\n"
     ]
    }
   ],
   "source": [
    "doc = nlp(\"He quits the job\")\n",
    "doc[1]\n",
    "print(doc[1].text, \"|\", doc[1].tag_, \"|\", spacy.explain(doc[1].tag_))"
   ]
  },
  {
   "cell_type": "code",
   "execution_count": 20,
   "id": "c1866fac",
   "metadata": {},
   "outputs": [
    {
     "name": "stdout",
     "output_type": "stream",
     "text": [
      "quit | VBD | verb, past tense\n"
     ]
    }
   ],
   "source": [
    "doc = nlp(\"He quit the job\")\n",
    "doc[1]\n",
    "print(doc[1].text, \"|\", doc[1].tag_, \"|\", spacy.explain(doc[1].tag_))"
   ]
  },
  {
   "cell_type": "code",
   "execution_count": 21,
   "id": "5bbe2469",
   "metadata": {},
   "outputs": [],
   "source": [
    "# Spacy is very stong!"
   ]
  },
  {
   "cell_type": "code",
   "execution_count": 22,
   "id": "7e46d20f",
   "metadata": {},
   "outputs": [],
   "source": [
    "# new text to test\n",
    "earnings_text=\"\"\"Microsoft Corp. today announced the following results for the quarter ended December 31, 2021, as compared to the corresponding period of last fiscal year:\n",
    "\n",
    "·         Revenue was $51.7 billion and increased 20%\n",
    "·         Operating income was $22.2 billion and increased 24%\n",
    "·         Net income was $18.8 billion and increased 21%\n",
    "·         Diluted earnings per share was $2.48 and increased 22%\n",
    "“Digital technology is the most malleable resource at the world’s disposal to overcome constraints and reimagine everyday work and life,” said Satya Nadella, chairman and chief executive officer of Microsoft. “As tech as a percentage of global GDP continues to increase, we are innovating and investing across diverse and growing markets, with a common underlying technology stack and an operating model that reinforces a common strategy, culture, and sense of purpose.”\n",
    "“Solid commercial execution, represented by strong bookings growth driven by long-term Azure commitments, increased Microsoft Cloud revenue to $22.1 billion, up 32% year over year” said Amy Hood, executive vice president and chief financial officer of Microsoft.\"\"\"\n"
   ]
  },
  {
   "cell_type": "code",
   "execution_count": 26,
   "id": "7c9861fb",
   "metadata": {},
   "outputs": [],
   "source": [
    "# EN essai de supprimer les mots ou les caractaire qui sont un espace ou un point-vergule ....\n",
    "doc = nlp(earnings_text)\n",
    "\n",
    "filteres_token = []\n",
    "for token in doc:\n",
    "    if token.pos_ not in [\"SPACE\",\"X\", \"PUNCT\"]:\n",
    "        filteres_token.append(token)\n"
   ]
  },
  {
   "cell_type": "code",
   "execution_count": 36,
   "id": "f667cec8",
   "metadata": {},
   "outputs": [
    {
     "name": "stdout",
     "output_type": "stream",
     "text": [
      "Microsoft | PROPN | NNP\n",
      "Corp. | PROPN | NNP\n",
      "today | NOUN | NN\n",
      "announced | VERB | VBD\n",
      "the | DET | DT\n",
      "following | VERB | VBG\n",
      "results | NOUN | NNS\n",
      "for | ADP | IN\n",
      "the | DET | DT\n",
      "quarter | NOUN | NN\n",
      "ended | VERB | VBD\n",
      "December | PROPN | NNP\n",
      "31 | NUM | CD\n",
      "2021 | NUM | CD\n",
      "as | SCONJ | IN\n",
      "compared | VERB | VBN\n",
      "to | ADP | IN\n",
      "the | DET | DT\n",
      "corresponding | ADJ | JJ\n",
      "period | NOUN | NN\n",
      "of | ADP | IN\n",
      "last | ADJ | JJ\n",
      "fiscal | ADJ | JJ\n",
      "year | NOUN | NN\n",
      "Revenue | NOUN | NN\n",
      "was | AUX | VBD\n",
      "$ | SYM | $\n",
      "51.7 | NUM | CD\n",
      "billion | NUM | CD\n",
      "and | CCONJ | CC\n",
      "increased | VERB | VBD\n",
      "20 | NUM | CD\n",
      "% | NOUN | NN\n",
      "Operating | VERB | VBG\n",
      "income | NOUN | NN\n",
      "was | AUX | VBD\n",
      "$ | SYM | $\n",
      "22.2 | NUM | CD\n",
      "billion | NUM | CD\n",
      "and | CCONJ | CC\n",
      "increased | VERB | VBD\n",
      "24 | NUM | CD\n",
      "% | NOUN | NN\n",
      "Net | ADJ | JJ\n",
      "income | NOUN | NN\n",
      "was | AUX | VBD\n",
      "$ | SYM | $\n",
      "18.8 | NUM | CD\n",
      "billion | NUM | CD\n",
      "and | CCONJ | CC\n",
      "increased | VERB | VBD\n",
      "21 | NUM | CD\n",
      "% | NOUN | NN\n",
      "Diluted | VERB | VBN\n",
      "earnings | NOUN | NNS\n",
      "per | ADP | IN\n",
      "share | NOUN | NN\n",
      "was | AUX | VBD\n",
      "$ | SYM | $\n",
      "2.48 | NUM | CD\n",
      "and | CCONJ | CC\n",
      "increased | VERB | VBD\n",
      "22 | NUM | CD\n",
      "% | NOUN | NN\n",
      "Digital | PROPN | NNP\n",
      "technology | NOUN | NN\n",
      "is | AUX | VBZ\n",
      "the | DET | DT\n",
      "most | ADV | RBS\n",
      "malleable | ADJ | JJ\n",
      "resource | NOUN | NN\n",
      "at | ADP | IN\n",
      "the | DET | DT\n",
      "world | NOUN | NN\n",
      "’s | PART | POS\n",
      "disposal | NOUN | NN\n",
      "to | PART | TO\n",
      "overcome | VERB | VB\n",
      "constraints | NOUN | NNS\n",
      "and | CCONJ | CC\n",
      "reimagine | VERB | VB\n",
      "everyday | ADJ | JJ\n",
      "work | NOUN | NN\n",
      "and | CCONJ | CC\n",
      "life | NOUN | NN\n",
      "said | VERB | VBD\n",
      "Satya | PROPN | NNP\n",
      "Nadella | PROPN | NNP\n",
      "chairman | NOUN | NN\n",
      "and | CCONJ | CC\n",
      "chief | ADJ | JJ\n",
      "executive | ADJ | JJ\n",
      "officer | NOUN | NN\n",
      "of | ADP | IN\n",
      "Microsoft | PROPN | NNP\n",
      "As | ADV | RB\n",
      "tech | NOUN | NN\n",
      "as | ADP | IN\n",
      "a | DET | DT\n",
      "percentage | NOUN | NN\n",
      "of | ADP | IN\n",
      "global | ADJ | JJ\n",
      "GDP | PROPN | NNP\n",
      "continues | VERB | VBZ\n",
      "to | PART | TO\n",
      "increase | VERB | VB\n",
      "we | PRON | PRP\n",
      "are | AUX | VBP\n",
      "innovating | VERB | VBG\n",
      "and | CCONJ | CC\n",
      "investing | VERB | VBG\n",
      "across | ADP | IN\n",
      "diverse | ADJ | JJ\n",
      "and | CCONJ | CC\n",
      "growing | VERB | VBG\n",
      "markets | NOUN | NNS\n",
      "with | ADP | IN\n",
      "a | DET | DT\n",
      "common | ADJ | JJ\n",
      "underlying | VERB | VBG\n",
      "technology | NOUN | NN\n",
      "stack | NOUN | NN\n",
      "and | CCONJ | CC\n",
      "an | DET | DT\n",
      "operating | NOUN | NN\n",
      "model | NOUN | NN\n",
      "that | PRON | WDT\n",
      "reinforces | VERB | VBZ\n",
      "a | DET | DT\n",
      "common | ADJ | JJ\n",
      "strategy | NOUN | NN\n",
      "culture | NOUN | NN\n",
      "and | CCONJ | CC\n",
      "sense | NOUN | NN\n",
      "of | ADP | IN\n",
      "purpose | NOUN | NN\n",
      "Solid | ADJ | JJ\n",
      "commercial | ADJ | JJ\n",
      "execution | NOUN | NN\n",
      "represented | VERB | VBN\n",
      "by | ADP | IN\n",
      "strong | ADJ | JJ\n",
      "bookings | NOUN | NNS\n",
      "growth | NOUN | NN\n",
      "driven | VERB | VBN\n",
      "by | ADP | IN\n",
      "long | ADJ | JJ\n",
      "term | NOUN | NN\n",
      "Azure | ADJ | JJ\n",
      "commitments | NOUN | NNS\n",
      "increased | VERB | VBD\n",
      "Microsoft | PROPN | NNP\n",
      "Cloud | PROPN | NNP\n",
      "revenue | NOUN | NN\n",
      "to | ADP | IN\n",
      "$ | SYM | $\n",
      "22.1 | NUM | CD\n",
      "billion | NUM | CD\n",
      "up | ADV | RB\n",
      "32 | NUM | CD\n",
      "% | NOUN | NN\n",
      "year | NOUN | NN\n",
      "over | ADP | IN\n",
      "year | NOUN | NN\n",
      "said | VERB | VBD\n",
      "Amy | PROPN | NNP\n",
      "Hood | PROPN | NNP\n",
      "executive | ADJ | JJ\n",
      "vice | NOUN | NN\n",
      "president | NOUN | NN\n",
      "and | CCONJ | CC\n",
      "chief | ADJ | JJ\n",
      "financial | ADJ | JJ\n",
      "officer | NOUN | NN\n",
      "of | ADP | IN\n",
      "Microsoft | PROPN | NNP\n"
     ]
    }
   ],
   "source": [
    "#print(filteres_token)\n",
    "#filteres_token[:30]\n",
    "for token in filteres_token:\n",
    "    print(token,\"|\", token.pos_,\"|\", token.tag_)"
   ]
  },
  {
   "cell_type": "code",
   "execution_count": 39,
   "id": "5eea9958",
   "metadata": {},
   "outputs": [
    {
     "data": {
      "text/plain": [
       "{96: 13,\n",
       " 92: 46,\n",
       " 100: 24,\n",
       " 90: 9,\n",
       " 85: 16,\n",
       " 93: 16,\n",
       " 97: 27,\n",
       " 98: 1,\n",
       " 84: 20,\n",
       " 103: 10,\n",
       " 87: 6,\n",
       " 99: 5,\n",
       " 89: 12,\n",
       " 86: 3,\n",
       " 94: 3,\n",
       " 95: 2}"
      ]
     },
     "execution_count": 39,
     "metadata": {},
     "output_type": "execute_result"
    }
   ],
   "source": [
    "# On peut savoir le nombre de PRONP dans le text par exemple \n",
    "count = doc.count_by(spacy.attrs.POS)\n",
    "count"
   ]
  },
  {
   "cell_type": "code",
   "execution_count": 40,
   "id": "e02c8e5e",
   "metadata": {},
   "outputs": [
    {
     "data": {
      "text/plain": [
       "'PROPN'"
      ]
     },
     "execution_count": 40,
     "metadata": {},
     "output_type": "execute_result"
    }
   ],
   "source": [
    "\n",
    "doc.vocab[96].text"
   ]
  }
 ],
 "metadata": {
  "kernelspec": {
   "display_name": "Python 3 (ipykernel)",
   "language": "python",
   "name": "python3"
  },
  "language_info": {
   "codemirror_mode": {
    "name": "ipython",
    "version": 3
   },
   "file_extension": ".py",
   "mimetype": "text/x-python",
   "name": "python",
   "nbconvert_exporter": "python",
   "pygments_lexer": "ipython3",
   "version": "3.11.2"
  }
 },
 "nbformat": 4,
 "nbformat_minor": 5
}
