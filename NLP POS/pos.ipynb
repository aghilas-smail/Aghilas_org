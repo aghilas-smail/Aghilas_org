{
 "cells": [
  {
   "cell_type": "code",
   "execution_count": 5,
   "id": "11b0e2df",
   "metadata": {},
   "outputs": [],
   "source": [
    "import spacy\n"
   ]
  },
  {
   "cell_type": "code",
   "execution_count": 7,
   "id": "87b68f6f",
   "metadata": {},
   "outputs": [],
   "source": [
    "nlp = spacy.load(\"en_core_web_sm\")"
   ]
  },
  {
   "cell_type": "code",
   "execution_count": 9,
   "id": "e9c3b2d6",
   "metadata": {},
   "outputs": [
    {
     "name": "stdout",
     "output_type": "stream",
     "text": [
      "je\n",
      "suis\n",
      "smail\n",
      "aghilas\n",
      "et\n",
      "cela\n",
      "c'est\n",
      "un\n",
      "test\n",
      "pour\n",
      "voir\n",
      "si\n",
      "ca\n",
      "marche\n",
      "!\n"
     ]
    }
   ],
   "source": [
    "# Préparation du model d'apprentissage.\n",
    "doc = nlp(\"je suis smail aghilas et cela c'est un test pour voir si ca marche!\")\n",
    "for token in doc:\n",
    "    print(token)"
   ]
  }
 ],
 "metadata": {
  "kernelspec": {
   "display_name": "Python 3 (ipykernel)",
   "language": "python",
   "name": "python3"
  },
  "language_info": {
   "codemirror_mode": {
    "name": "ipython",
    "version": 3
   },
   "file_extension": ".py",
   "mimetype": "text/x-python",
   "name": "python",
   "nbconvert_exporter": "python",
   "pygments_lexer": "ipython3",
   "version": "3.11.2"
  }
 },
 "nbformat": 4,
 "nbformat_minor": 5
}
