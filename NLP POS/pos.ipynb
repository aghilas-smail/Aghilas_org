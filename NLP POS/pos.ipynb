{
 "cells": [
  {
   "cell_type": "code",
   "execution_count": 6,
   "id": "11b0e2df",
   "metadata": {},
   "outputs": [],
   "source": [
    "import spacy\n"
   ]
  },
  {
   "cell_type": "code",
   "execution_count": 9,
   "id": "87b68f6f",
   "metadata": {},
   "outputs": [],
   "source": [
    "nlp = spacy.load(\"en_core_web_sm\")"
   ]
  },
  {
   "cell_type": "code",
   "execution_count": 10,
   "id": "e9c3b2d6",
   "metadata": {},
   "outputs": [
    {
     "name": "stdout",
     "output_type": "stream",
     "text": [
      "Elon | PROPN\n",
      "a | DET\n",
      "person | NOUN\n",
      "flew | VERB\n",
      "to | ADP\n",
      "mars | NOUN\n",
      "yesterday | NOUN\n",
      ". | PUNCT\n",
      "He | PRON\n",
      "carried | VERB\n",
      "Aghilas | PROPN\n",
      "smail | NOUN\n",
      "with | ADP\n",
      "him | PRON\n"
     ]
    }
   ],
   "source": [
    "# Préparation du model d'apprentissage.\n",
    "doc = nlp(\"Elon a person flew to mars yesterday. He carried Aghilas smail with him\")\n",
    "for token in doc:\n",
    "    print(token,\"|\", token.pos_)"
   ]
  }
 ],
 "metadata": {
  "kernelspec": {
   "display_name": "Python 3 (ipykernel)",
   "language": "python",
   "name": "python3"
  },
  "language_info": {
   "codemirror_mode": {
    "name": "ipython",
    "version": 3
   },
   "file_extension": ".py",
   "mimetype": "text/x-python",
   "name": "python",
   "nbconvert_exporter": "python",
   "pygments_lexer": "ipython3",
   "version": "3.11.2"
  }
 },
 "nbformat": 4,
 "nbformat_minor": 5
}
