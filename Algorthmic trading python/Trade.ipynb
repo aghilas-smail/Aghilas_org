{
 "cells": [
  {
   "cell_type": "code",
   "execution_count": 12,
   "metadata": {},
   "outputs": [],
   "source": [
    "import yfinance as yf\n",
    "import numpy as np\n",
    "import pandas as pd\n",
    "import matplotlib.pyplot as plt\n",
    "from datetime import datetime"
   ]
  },
  {
   "cell_type": "code",
   "execution_count": 13,
   "metadata": {},
   "outputs": [
    {
     "name": "stderr",
     "output_type": "stream",
     "text": [
      "[*********************100%%**********************]  1 of 1 completed\n",
      "\n",
      "1 Failed download:\n",
      "['AAPL']: AttributeError(\"module 'numpy' has no attribute 'matrix'\")\n"
     ]
    }
   ],
   "source": [
    "now =  datetime.now().strftime('%Y-%m-%d')\n",
    "Apple = yf.download(\"AAPL\", start= \"2010-01-01\", end= now)"
   ]
  },
  {
   "cell_type": "code",
   "execution_count": 14,
   "metadata": {},
   "outputs": [
    {
     "name": "stderr",
     "output_type": "stream",
     "text": [
      "[*********************100%%**********************]  3 of 4 completed\n",
      "\n",
      "4 Failed downloads:\n",
      "[*********************100%%**********************]  3 of 4 completed['AAPL', 'KO', 'SPY', 'MSFT']: AttributeError(\"module 'numpy' has no attribute 'matrix'\")\n"
     ]
    }
   ],
   "source": [
    "ticker=(\"SPY\", \"AAPL\", \"KO\", \"MSFT\")\n",
    "stocks = yf.download(ticker, start=\"2010-01-01\", end=now)\n",
    "stocks.to_csv(\"Stocks.csv\")"
   ]
  },
  {
   "cell_type": "code",
   "execution_count": 15,
   "metadata": {},
   "outputs": [
    {
     "data": {
      "text/html": [
       "<div>\n",
       "<style scoped>\n",
       "    .dataframe tbody tr th:only-of-type {\n",
       "        vertical-align: middle;\n",
       "    }\n",
       "\n",
       "    .dataframe tbody tr th {\n",
       "        vertical-align: top;\n",
       "    }\n",
       "\n",
       "    .dataframe thead tr th {\n",
       "        text-align: left;\n",
       "    }\n",
       "\n",
       "    .dataframe thead tr:last-of-type th {\n",
       "        text-align: right;\n",
       "    }\n",
       "</style>\n",
       "<table border=\"1\" class=\"dataframe\">\n",
       "  <thead>\n",
       "    <tr>\n",
       "      <th>Price</th>\n",
       "      <th colspan=\"4\" halign=\"left\">Adj Close</th>\n",
       "      <th colspan=\"4\" halign=\"left\">Close</th>\n",
       "      <th colspan=\"2\" halign=\"left\">High</th>\n",
       "      <th>...</th>\n",
       "      <th colspan=\"2\" halign=\"left\">Low</th>\n",
       "      <th colspan=\"4\" halign=\"left\">Open</th>\n",
       "      <th colspan=\"4\" halign=\"left\">Volume</th>\n",
       "    </tr>\n",
       "    <tr>\n",
       "      <th>Ticker</th>\n",
       "      <th>AAPL</th>\n",
       "      <th>KO</th>\n",
       "      <th>MSFT</th>\n",
       "      <th>SPY</th>\n",
       "      <th>AAPL</th>\n",
       "      <th>KO</th>\n",
       "      <th>MSFT</th>\n",
       "      <th>SPY</th>\n",
       "      <th>AAPL</th>\n",
       "      <th>KO</th>\n",
       "      <th>...</th>\n",
       "      <th>MSFT</th>\n",
       "      <th>SPY</th>\n",
       "      <th>AAPL</th>\n",
       "      <th>KO</th>\n",
       "      <th>MSFT</th>\n",
       "      <th>SPY</th>\n",
       "      <th>AAPL</th>\n",
       "      <th>KO</th>\n",
       "      <th>MSFT</th>\n",
       "      <th>SPY</th>\n",
       "    </tr>\n",
       "    <tr>\n",
       "      <th>Date</th>\n",
       "      <th></th>\n",
       "      <th></th>\n",
       "      <th></th>\n",
       "      <th></th>\n",
       "      <th></th>\n",
       "      <th></th>\n",
       "      <th></th>\n",
       "      <th></th>\n",
       "      <th></th>\n",
       "      <th></th>\n",
       "      <th></th>\n",
       "      <th></th>\n",
       "      <th></th>\n",
       "      <th></th>\n",
       "      <th></th>\n",
       "      <th></th>\n",
       "      <th></th>\n",
       "      <th></th>\n",
       "      <th></th>\n",
       "      <th></th>\n",
       "      <th></th>\n",
       "    </tr>\n",
       "  </thead>\n",
       "  <tbody>\n",
       "  </tbody>\n",
       "</table>\n",
       "<p>0 rows × 24 columns</p>\n",
       "</div>"
      ],
      "text/plain": [
       "Empty DataFrame\n",
       "Columns: [(Adj Close, AAPL), (Adj Close, KO), (Adj Close, MSFT), (Adj Close, SPY), (Close, AAPL), (Close, KO), (Close, MSFT), (Close, SPY), (High, AAPL), (High, KO), (High, MSFT), (High, SPY), (Low, AAPL), (Low, KO), (Low, MSFT), (Low, SPY), (Open, AAPL), (Open, KO), (Open, MSFT), (Open, SPY), (Volume, AAPL), (Volume, KO), (Volume, MSFT), (Volume, SPY)]\n",
       "Index: []\n",
       "\n",
       "[0 rows x 24 columns]"
      ]
     },
     "execution_count": 15,
     "metadata": {},
     "output_type": "execute_result"
    }
   ],
   "source": [
    "# The header serves to define multiple levels of column headers from the CSV file. \n",
    "stocks =  pd.read_csv(\"Stocks.csv\", header=[0,1], index_col=[0], parse_dates=[0]) # index_col is used tio delet the first column in our example is colled the index.\n",
    "stocks"
   ]
  },
  {
   "cell_type": "code",
   "execution_count": 16,
   "metadata": {},
   "outputs": [
    {
     "data": {
      "text/plain": [
       "MultiIndex([('Adj Close', 'AAPL'),\n",
       "            ('Adj Close',   'KO'),\n",
       "            ('Adj Close', 'MSFT'),\n",
       "            ('Adj Close',  'SPY'),\n",
       "            (    'Close', 'AAPL'),\n",
       "            (    'Close',   'KO'),\n",
       "            (    'Close', 'MSFT'),\n",
       "            (    'Close',  'SPY'),\n",
       "            (     'High', 'AAPL'),\n",
       "            (     'High',   'KO'),\n",
       "            (     'High', 'MSFT'),\n",
       "            (     'High',  'SPY'),\n",
       "            (      'Low', 'AAPL'),\n",
       "            (      'Low',   'KO'),\n",
       "            (      'Low', 'MSFT'),\n",
       "            (      'Low',  'SPY'),\n",
       "            (     'Open', 'AAPL'),\n",
       "            (     'Open',   'KO'),\n",
       "            (     'Open', 'MSFT'),\n",
       "            (     'Open',  'SPY'),\n",
       "            (   'Volume', 'AAPL'),\n",
       "            (   'Volume',   'KO'),\n",
       "            (   'Volume', 'MSFT'),\n",
       "            (   'Volume',  'SPY')],\n",
       "           names=['Price', 'Ticker'])"
      ]
     },
     "execution_count": 16,
     "metadata": {},
     "output_type": "execute_result"
    }
   ],
   "source": [
    "stocks.columns"
   ]
  },
  {
   "cell_type": "code",
   "execution_count": 17,
   "metadata": {},
   "outputs": [
    {
     "data": {
      "text/plain": [
       "Index([('Adj Close', 'AAPL'),   ('Adj Close', 'KO'), ('Adj Close', 'MSFT'),\n",
       "        ('Adj Close', 'SPY'),     ('Close', 'AAPL'),       ('Close', 'KO'),\n",
       "           ('Close', 'MSFT'),      ('Close', 'SPY'),      ('High', 'AAPL'),\n",
       "              ('High', 'KO'),      ('High', 'MSFT'),       ('High', 'SPY'),\n",
       "             ('Low', 'AAPL'),         ('Low', 'KO'),       ('Low', 'MSFT'),\n",
       "              ('Low', 'SPY'),      ('Open', 'AAPL'),        ('Open', 'KO'),\n",
       "            ('Open', 'MSFT'),       ('Open', 'SPY'),    ('Volume', 'AAPL'),\n",
       "            ('Volume', 'KO'),    ('Volume', 'MSFT'),     ('Volume', 'SPY')],\n",
       "      dtype='object')"
      ]
     },
     "execution_count": 17,
     "metadata": {},
     "output_type": "execute_result"
    }
   ],
   "source": [
    "stocks.columns = stocks.columns.to_flat_index()\n",
    "stocks.columns"
   ]
  }
 ],
 "metadata": {
  "kernelspec": {
   "display_name": "Python 3",
   "language": "python",
   "name": "python3"
  },
  "language_info": {
   "codemirror_mode": {
    "name": "ipython",
    "version": 3
   },
   "file_extension": ".py",
   "mimetype": "text/x-python",
   "name": "python",
   "nbconvert_exporter": "python",
   "pygments_lexer": "ipython3",
   "version": "3.12.4"
  }
 },
 "nbformat": 4,
 "nbformat_minor": 2
}
